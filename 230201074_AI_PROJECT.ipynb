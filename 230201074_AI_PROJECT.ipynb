{
  "cells": [
    {
      "cell_type": "code",
      "execution_count": 3,
      "metadata": {
        "id": "aArT1lrtGLyI"
      },
      "outputs": [],
      "source": [
        "#Importing Libraries\n",
        "import numpy as np\n",
        "import pandas as pd\n",
        "from sklearn.model_selection import train_test_split\n",
        "from sklearn.neighbors import KNeighborsClassifier\n",
        "from sklearn.metrics import accuracy_score\n",
        "from  sklearn.naive_bayes import GaussianNB\n",
        "from sklearn.preprocessing import OneHotEncoder\n",
        "from sklearn.neural_network import MLPClassifier\n",
        "import matplotlib.pyplot as plt\n",
        "\n"
      ]
    },
    {
      "cell_type": "code",
      "execution_count": 4,
      "metadata": {
        "colab": {
          "base_uri": "https://localhost:8080/",
          "height": 206
        },
        "id": "WBLSOval7Nhg",
        "outputId": "fec865b5-c986-483c-a169-46fd6d288411"
      },
      "outputs": [
        {
          "data": {
            "text/html": [
              "<div>\n",
              "<style scoped>\n",
              "    .dataframe tbody tr th:only-of-type {\n",
              "        vertical-align: middle;\n",
              "    }\n",
              "\n",
              "    .dataframe tbody tr th {\n",
              "        vertical-align: top;\n",
              "    }\n",
              "\n",
              "    .dataframe thead th {\n",
              "        text-align: right;\n",
              "    }\n",
              "</style>\n",
              "<table border=\"1\" class=\"dataframe\">\n",
              "  <thead>\n",
              "    <tr style=\"text-align: right;\">\n",
              "      <th></th>\n",
              "      <th>Education</th>\n",
              "      <th>Joining Year</th>\n",
              "      <th>City</th>\n",
              "      <th>Payment Tier</th>\n",
              "      <th>Age</th>\n",
              "      <th>Gender</th>\n",
              "      <th>EverBenched</th>\n",
              "      <th>ExperienceInCurrentDomain</th>\n",
              "      <th>LeaveOrNot</th>\n",
              "    </tr>\n",
              "  </thead>\n",
              "  <tbody>\n",
              "    <tr>\n",
              "      <th>0</th>\n",
              "      <td>C</td>\n",
              "      <td>JoiningYear</td>\n",
              "      <td>City</td>\n",
              "      <td>PaymentTier</td>\n",
              "      <td>Age</td>\n",
              "      <td>Gender</td>\n",
              "      <td>EverBenched</td>\n",
              "      <td>ExperienceInCurrentDomain</td>\n",
              "      <td>LeaveOrNot</td>\n",
              "    </tr>\n",
              "    <tr>\n",
              "      <th>1</th>\n",
              "      <td>Bachelors</td>\n",
              "      <td>2017</td>\n",
              "      <td>Bangalore</td>\n",
              "      <td>3</td>\n",
              "      <td>34</td>\n",
              "      <td>Male</td>\n",
              "      <td>No</td>\n",
              "      <td>0</td>\n",
              "      <td>0</td>\n",
              "    </tr>\n",
              "    <tr>\n",
              "      <th>2</th>\n",
              "      <td>Bachelors</td>\n",
              "      <td>2013</td>\n",
              "      <td>Pune</td>\n",
              "      <td>1</td>\n",
              "      <td>28</td>\n",
              "      <td>Female</td>\n",
              "      <td>No</td>\n",
              "      <td>3</td>\n",
              "      <td>1</td>\n",
              "    </tr>\n",
              "    <tr>\n",
              "      <th>3</th>\n",
              "      <td>Bachelors</td>\n",
              "      <td>2014</td>\n",
              "      <td>New Delhi</td>\n",
              "      <td>3</td>\n",
              "      <td>38</td>\n",
              "      <td>Female</td>\n",
              "      <td>No</td>\n",
              "      <td>2</td>\n",
              "      <td>0</td>\n",
              "    </tr>\n",
              "    <tr>\n",
              "      <th>4</th>\n",
              "      <td>Masters</td>\n",
              "      <td>2016</td>\n",
              "      <td>Bangalore</td>\n",
              "      <td>3</td>\n",
              "      <td>27</td>\n",
              "      <td>Male</td>\n",
              "      <td>No</td>\n",
              "      <td>5</td>\n",
              "      <td>1</td>\n",
              "    </tr>\n",
              "  </tbody>\n",
              "</table>\n",
              "</div>"
            ],
            "text/plain": [
              "   Education Joining Year       City Payment Tier  Age  Gender  EverBenched  \\\n",
              "0          C  JoiningYear       City  PaymentTier  Age  Gender  EverBenched   \n",
              "1  Bachelors         2017  Bangalore            3   34    Male           No   \n",
              "2  Bachelors         2013       Pune            1   28  Female           No   \n",
              "3  Bachelors         2014  New Delhi            3   38  Female           No   \n",
              "4    Masters         2016  Bangalore            3   27    Male           No   \n",
              "\n",
              "   ExperienceInCurrentDomain  LeaveOrNot  \n",
              "0  ExperienceInCurrentDomain  LeaveOrNot  \n",
              "1                          0           0  \n",
              "2                          3           1  \n",
              "3                          2           0  \n",
              "4                          5           1  "
            ]
          },
          "execution_count": 4,
          "metadata": {},
          "output_type": "execute_result"
        }
      ],
      "source": [
        "# Loading dataset into a DataFrame\n",
        "col = ['Education','Joining Year','City','Payment Tier','Age','Gender','EverBenched','ExperienceInCurrentDomain','LeaveOrNot']\n",
        "df = pd.read_csv('Employee.csv', names = col)\n",
        "df.head()"
      ]
    },
    {
      "cell_type": "code",
      "execution_count": 5,
      "metadata": {
        "id": "NL7ECerT7Rd3"
      },
      "outputs": [],
      "source": [
        "# Training Preparation\n",
        "columns = ['Education', 'JoiningYear', 'City', 'PaymentTier', 'Age', 'Gender', 'EverBenched', 'ExperienceInCurrentDomain','LeaveOrNot']\n",
        "df.columns = columns\n",
        "for column in columns:\n",
        "    df.dropna(subset=[column], inplace=True)"
      ]
    },
    {
      "cell_type": "code",
      "execution_count": 6,
      "metadata": {},
      "outputs": [],
      "source": [
        "# Vertical Splitting Data Set into Features and Label\n",
        "X = df.drop(\"LeaveOrNot\", axis=1)\n",
        "y = df[\"LeaveOrNot\"]\n"
      ]
    },
    {
      "cell_type": "code",
      "execution_count": 7,
      "metadata": {
        "colab": {
          "base_uri": "https://localhost:8080/"
        },
        "id": "WOP9YSEd7QBq",
        "outputId": "653d33b2-fae2-4809-af06-7ea3f1607144"
      },
      "outputs": [
        {
          "name": "stdout",
          "output_type": "stream",
          "text": [
            "Encoded Employee data : \n",
            "      Education_Bachelors  Education_C  Education_Masters  Education_PHD  \\\n",
            "0                     0.0          1.0                0.0            0.0   \n",
            "1                     1.0          0.0                0.0            0.0   \n",
            "2                     1.0          0.0                0.0            0.0   \n",
            "3                     1.0          0.0                0.0            0.0   \n",
            "4                     0.0          0.0                1.0            0.0   \n",
            "...                   ...          ...                ...            ...   \n",
            "4649                  1.0          0.0                0.0            0.0   \n",
            "4650                  0.0          0.0                1.0            0.0   \n",
            "4651                  0.0          0.0                1.0            0.0   \n",
            "4652                  1.0          0.0                0.0            0.0   \n",
            "4653                  1.0          0.0                0.0            0.0   \n",
            "\n",
            "      JoiningYear_2012  JoiningYear_2013  JoiningYear_2014  JoiningYear_2015  \\\n",
            "0                  0.0               0.0               0.0               0.0   \n",
            "1                  0.0               0.0               0.0               0.0   \n",
            "2                  0.0               1.0               0.0               0.0   \n",
            "3                  0.0               0.0               1.0               0.0   \n",
            "4                  0.0               0.0               0.0               0.0   \n",
            "...                ...               ...               ...               ...   \n",
            "4649               0.0               1.0               0.0               0.0   \n",
            "4650               0.0               1.0               0.0               0.0   \n",
            "4651               0.0               0.0               0.0               0.0   \n",
            "4652               1.0               0.0               0.0               0.0   \n",
            "4653               0.0               0.0               0.0               1.0   \n",
            "\n",
            "      JoiningYear_2016  JoiningYear_2017  ...  EverBenched_Yes  \\\n",
            "0                  0.0               0.0  ...              0.0   \n",
            "1                  0.0               1.0  ...              0.0   \n",
            "2                  0.0               0.0  ...              0.0   \n",
            "3                  0.0               0.0  ...              0.0   \n",
            "4                  1.0               0.0  ...              0.0   \n",
            "...                ...               ...  ...              ...   \n",
            "4649               0.0               0.0  ...              0.0   \n",
            "4650               0.0               0.0  ...              0.0   \n",
            "4651               0.0               0.0  ...              0.0   \n",
            "4652               0.0               0.0  ...              1.0   \n",
            "4653               0.0               0.0  ...              1.0   \n",
            "\n",
            "      ExperienceInCurrentDomain_0  ExperienceInCurrentDomain_1  \\\n",
            "0                             0.0                          0.0   \n",
            "1                             1.0                          0.0   \n",
            "2                             0.0                          0.0   \n",
            "3                             0.0                          0.0   \n",
            "4                             0.0                          0.0   \n",
            "...                           ...                          ...   \n",
            "4649                          0.0                          0.0   \n",
            "4650                          0.0                          0.0   \n",
            "4651                          0.0                          0.0   \n",
            "4652                          0.0                          0.0   \n",
            "4653                          0.0                          0.0   \n",
            "\n",
            "      ExperienceInCurrentDomain_2  ExperienceInCurrentDomain_3  \\\n",
            "0                             0.0                          0.0   \n",
            "1                             0.0                          0.0   \n",
            "2                             0.0                          1.0   \n",
            "3                             1.0                          0.0   \n",
            "4                             0.0                          0.0   \n",
            "...                           ...                          ...   \n",
            "4649                          0.0                          0.0   \n",
            "4650                          1.0                          0.0   \n",
            "4651                          0.0                          0.0   \n",
            "4652                          1.0                          0.0   \n",
            "4653                          0.0                          0.0   \n",
            "\n",
            "      ExperienceInCurrentDomain_4  ExperienceInCurrentDomain_5  \\\n",
            "0                             0.0                          0.0   \n",
            "1                             0.0                          0.0   \n",
            "2                             0.0                          0.0   \n",
            "3                             0.0                          0.0   \n",
            "4                             0.0                          1.0   \n",
            "...                           ...                          ...   \n",
            "4649                          1.0                          0.0   \n",
            "4650                          0.0                          0.0   \n",
            "4651                          0.0                          1.0   \n",
            "4652                          0.0                          0.0   \n",
            "4653                          1.0                          0.0   \n",
            "\n",
            "      ExperienceInCurrentDomain_6  ExperienceInCurrentDomain_7  \\\n",
            "0                             0.0                          0.0   \n",
            "1                             0.0                          0.0   \n",
            "2                             0.0                          0.0   \n",
            "3                             0.0                          0.0   \n",
            "4                             0.0                          0.0   \n",
            "...                           ...                          ...   \n",
            "4649                          0.0                          0.0   \n",
            "4650                          0.0                          0.0   \n",
            "4651                          0.0                          0.0   \n",
            "4652                          0.0                          0.0   \n",
            "4653                          0.0                          0.0   \n",
            "\n",
            "      ExperienceInCurrentDomain_ExperienceInCurrentDomain  \n",
            "0                                                   1.0    \n",
            "1                                                   0.0    \n",
            "2                                                   0.0    \n",
            "3                                                   0.0    \n",
            "4                                                   0.0    \n",
            "...                                                 ...    \n",
            "4649                                                0.0    \n",
            "4650                                                0.0    \n",
            "4651                                                0.0    \n",
            "4652                                                0.0    \n",
            "4653                                                0.0    \n",
            "\n",
            "[4654 rows x 56 columns]\n"
          ]
        }
      ],
      "source": [
        "# Hot encoding features\n",
        "categorical_columns = X.select_dtypes(include=['object']).columns.tolist()\n",
        "encoder = OneHotEncoder(sparse_output=False)\n",
        "\n",
        "# Apply one-hot encoding to the categorical columns\n",
        "one_hot_encoded = encoder.fit_transform(X[categorical_columns])\n",
        "\n",
        "#Create a DataFrame\n",
        "one_hot_df = pd.DataFrame(one_hot_encoded, columns=encoder.get_feature_names_out(categorical_columns))\n",
        "\n",
        "# Concatenate\n",
        "df_encoded = pd.concat([X, one_hot_df], axis=1)\n",
        "\n",
        "# Drop the original categorical columns\n",
        "df_encoded = df_encoded.drop(categorical_columns, axis=1)\n",
        "print(f\"Encoded Employee data : \\n{df_encoded}\")\n",
        "\n",
        "X = df_encoded\n"
      ]
    },
    {
      "cell_type": "code",
      "execution_count": 8,
      "metadata": {
        "id": "Lrf0Ut-E7Tvs"
      },
      "outputs": [],
      "source": [
        "# Horizontal Splitting For Training and Testing Data\n",
        "X_train, X_test, y_train, y_test = train_test_split(X, y, test_size=0.2, random_state=42)"
      ]
    },
    {
      "cell_type": "code",
      "execution_count": 9,
      "metadata": {
        "colab": {
          "base_uri": "https://localhost:8080/"
        },
        "id": "s4aGjSSW3SUc",
        "outputId": "58324b20-3c32-40da-f6bd-1169b3e6b4e6"
      },
      "outputs": [
        {
          "name": "stdout",
          "output_type": "stream",
          "text": [
            "Test data accuracy using KNN:  0.8163265306122449\n"
          ]
        }
      ],
      "source": [
        "# Implement KNearestNeighbor classifier\n",
        "classifier = KNeighborsClassifier(n_neighbors=7)\n",
        "KNeighborsClassifier()\n",
        "\n",
        "#Training model\n",
        "classifier.fit(X_train, y_train)\n",
        "\n",
        "# Evaluating the model's accuracy on the test set\n",
        "y_prediction = classifier.score(X_test,y_test)\n",
        "print(\"Test data accuracy using KNN: \",y_prediction)"
      ]
    },
    {
      "cell_type": "code",
      "execution_count": 10,
      "metadata": {
        "colab": {
          "base_uri": "https://localhost:8080/"
        },
        "id": "UhPk0qqt749S",
        "outputId": "af1b249d-e30d-40b3-9cd3-890eefe011fa"
      },
      "outputs": [
        {
          "name": "stdout",
          "output_type": "stream",
          "text": [
            "Test data accuracy using gaussian:  0.7261009667024705\n"
          ]
        }
      ],
      "source": [
        "# Implement Gaussian classifier\n",
        "gclassifier = GaussianNB()\n",
        "\n",
        "#Training model\n",
        "gclassifier.fit(X_train, y_train)\n",
        "\n",
        "# Evaluating the model's accuracy on the test set\n",
        "y_prediction = gclassifier.score(X_test,y_test) # test data 20% is used now for accuracy check for n=7\n",
        "print(\"Test data accuracy using gaussian: \",y_prediction)\n"
      ]
    },
    {
      "cell_type": "code",
      "execution_count": 11,
      "metadata": {
        "colab": {
          "base_uri": "https://localhost:8080/"
        },
        "id": "AfWVSJFdB0il",
        "outputId": "d799a318-fd17-4ae1-cfd9-2783a75edd54"
      },
      "outputs": [
        {
          "name": "stdout",
          "output_type": "stream",
          "text": [
            "Accuracy: 0.78\n"
          ]
        }
      ],
      "source": [
        "# Implement MLP classifier\n",
        "mlp = MLPClassifier(hidden_layer_sizes=(40,10), activation = 'tanh', learning_rate_init=0.001, solver= 'adam', max_iter=1000, random_state=100)\n",
        "\n",
        "# Train the model on the training data\n",
        "mlp.fit(X_train, y_train)\n",
        "\n",
        "# Making predictions on the test data\n",
        "y_pred = mlp.predict(X_test)\n",
        "\n",
        "# Calculate the accuracy of the model\n",
        "accuracy = accuracy_score(y_test, y_pred)\n",
        "print(f\"Accuracy: {accuracy:.2f}\")\n",
        "\n"
      ]
    },
    {
      "cell_type": "code",
      "execution_count": 12,
      "metadata": {
        "id": "krTui3B7AttV"
      },
      "outputs": [],
      "source": [
        "class NeuralNetwork:\n",
        "    def __init__(self, input_size, hidden_size, output_size, learning_rate):\n",
        "        self.input_size = input_size\n",
        "        self.hidden_size = hidden_size\n",
        "        self.output_size = output_size\n",
        "        self.learning_rate = learning_rate\n",
        "\n",
        "        # Initialize weights and biases\n",
        "        np.random.seed(42)\n",
        "        self.weights_input_hidden = np.random.randn(self.input_size, self.hidden_size) * 0.01\n",
        "        self.bias_hidden = np.zeros((1, self.hidden_size))\n",
        "        self.weights_hidden_output = np.random.randn(self.hidden_size, self.output_size) * 0.01\n",
        "        self.bias_output = np.zeros((1, self.output_size))\n",
        "\n",
        "        # Adam optimizer parameters\n",
        "        self.m_wih = np.zeros_like(self.weights_input_hidden)\n",
        "        self.v_wih = np.zeros_like(self.weights_input_hidden)\n",
        "        self.m_bh = np.zeros_like(self.bias_hidden)\n",
        "        self.v_bh = np.zeros_like(self.bias_hidden)\n",
        "        self.m_who = np.zeros_like(self.weights_hidden_output)\n",
        "        self.v_who = np.zeros_like(self.weights_hidden_output)\n",
        "        self.m_bo = np.zeros_like(self.bias_output)\n",
        "        self.v_bo = np.zeros_like(self.bias_output)\n",
        "        self.beta1 = 0.9\n",
        "        self.beta2 = 0.999\n",
        "        self.epsilon = 1e-8\n",
        "        self.t = 0\n",
        "\n",
        "    def sigmoid(self, x):\n",
        "        return 1 / (1 + np.exp(-x))\n",
        "\n",
        "    def sigmoid_derivative(self, x):\n",
        "        return x * (1 - x)\n",
        "\n",
        "    def forward(self, X):\n",
        "        self.hidden_layer_input = np.dot(X, self.weights_input_hidden) + self.bias_hidden\n",
        "        self.hidden_layer_output = self.sigmoid(self.hidden_layer_input)\n",
        "        self.output_layer_input = np.dot(self.hidden_layer_output, self.weights_hidden_output) + self.bias_output\n",
        "        self.predicted_output = self.sigmoid(self.output_layer_input)\n",
        "        return self.predicted_output\n",
        "\n",
        "    def backward(self, X, y):\n",
        "        self.t += 1\n",
        "\n",
        "        # Output layer error and gradient\n",
        "        error_output = self.predicted_output - y.values.reshape(-1, 1)  # Convert y to NumPy array before reshaping\n",
        "        gradient_output = error_output * self.sigmoid_derivative(self.predicted_output)\n",
        "\n",
        "        # Hidden layer error and gradient\n",
        "        error_hidden = np.dot(gradient_output, self.weights_hidden_output.T)\n",
        "        gradient_hidden = error_hidden * self.sigmoid_derivative(self.hidden_layer_output)\n",
        "\n",
        "        # Gradients for weights and biases\n",
        "        grad_who = np.dot(self.hidden_layer_output.T, gradient_output)\n",
        "        grad_bo = np.sum(gradient_output, axis=0, keepdims=True)\n",
        "        grad_wih = np.dot(X.T, gradient_hidden)\n",
        "        grad_bh = np.sum(gradient_hidden, axis=0, keepdims=True)\n",
        "\n",
        "        # Adam optimizer updates\n",
        "        self.m_who = self.beta1 * self.m_who + (1 - self.beta1) * grad_who\n",
        "        self.v_who = self.beta2 * self.v_who + (1 - self.beta2) * (grad_who ** 2)\n",
        "        m_who_hat = self.m_who / (1 - self.beta1 ** self.t)\n",
        "        v_who_hat = self.v_who / (1 - self.beta2 ** self.t)\n",
        "\n",
        "        self.m_bo = self.beta1 * self.m_bo + (1 - self.beta1) * grad_bo\n",
        "        self.v_bo = self.beta2 * self.v_bo + (1 - self.beta2) * (grad_bo ** 2)\n",
        "        m_bo_hat = self.m_bo / (1 - self.beta1 ** self.t)\n",
        "        v_bo_hat = self.v_bo / (1 - self.beta2 ** self.t)\n",
        "\n",
        "        self.m_wih = self.beta1 * self.m_wih + (1 - self.beta1) * grad_wih\n",
        "        self.v_wih = self.beta2 * self.v_wih + (1 - self.beta2) * (grad_wih ** 2)\n",
        "        m_wih_hat = self.m_wih / (1 - self.beta1 ** self.t)\n",
        "        v_wih_hat = self.v_wih / (1 - self.beta2 ** self.t)\n",
        "\n",
        "        self.m_bh = self.beta1 * self.m_bh + (1 - self.beta1) * grad_bh\n",
        "        self.v_bh = self.beta2 * self.v_bh + (1 - self.beta2) * (grad_bh ** 2)\n",
        "        m_bh_hat = self.m_bh / (1 - self.beta1 ** self.t)\n",
        "        v_bh_hat = self.v_bh / (1 - self.beta2 ** self.t)\n",
        "\n",
        "        # Update weights and biases\n",
        "        self.weights_hidden_output -= self.learning_rate * m_who_hat / (np.sqrt(v_who_hat) + self.epsilon)\n",
        "        self.bias_output -= self.learning_rate * m_bo_hat / (np.sqrt(v_bo_hat) + self.epsilon)\n",
        "        self.weights_input_hidden -= self.learning_rate * m_wih_hat / (np.sqrt(v_wih_hat) + self.epsilon)\n",
        "        self.bias_hidden -= self.learning_rate * m_bh_hat / (np.sqrt(v_bh_hat) + self.epsilon)\n",
        "\n",
        "    def compute_loss(self, y):\n",
        "        y = y.values.reshape(-1, 1)  # or y = y.values.flatten().reshape(-1, 1) if y is already a NumPy array\n",
        "        return -np.mean(y * np.log(self.predicted_output) + (1 - y) * np.log(1 - self.predicted_output))\n",
        "\n"
      ]
    },
    {
      "cell_type": "code",
      "execution_count": 13,
      "metadata": {
        "colab": {
          "base_uri": "https://localhost:8080/"
        },
        "id": "SnmaXb1mBIer",
        "outputId": "f3cb9d62-b115-4cfc-9c41-f5436b5b097d"
      },
      "outputs": [
        {
          "name": "stdout",
          "output_type": "stream",
          "text": [
            "Epoch 0, Loss: 0.6977, Training Accuracy: 0.66\n",
            "Epoch 50, Loss: 0.6361, Training Accuracy: 0.66\n",
            "Epoch 100, Loss: 0.6258, Training Accuracy: 0.66\n",
            "Epoch 150, Loss: 0.6023, Training Accuracy: 0.66\n",
            "Epoch 200, Loss: 0.5629, Training Accuracy: 0.71\n",
            "Epoch 250, Loss: 0.5274, Training Accuracy: 0.76\n",
            "Epoch 300, Loss: 0.5045, Training Accuracy: 0.79\n",
            "Epoch 350, Loss: 0.4897, Training Accuracy: 0.80\n",
            "Epoch 400, Loss: 0.4801, Training Accuracy: 0.81\n",
            "Epoch 450, Loss: 0.4740, Training Accuracy: 0.81\n",
            "Train Accuracy: 0.82\n",
            "Test Accuracy: 0.79\n"
          ]
        }
      ],
      "source": [
        "col = ['Education','Joining Year','City','Payment Tier','Age','Gender','EverBenched','ExperienceInCurrentDomain','LeaveOrNot']\n",
        "df = pd.read_csv('Employee.csv',names=col)\n",
        "target = 'LeaveOrNot'\n",
        "X = df.drop(columns=[target])\n",
        "y = df[target]\n",
        "\n",
        "# Encode categorical variables\n",
        "categorical_cols = X.select_dtypes(include=['object']).columns\n",
        "encoder = OneHotEncoder(sparse_output=False, drop='first')\n",
        "encoded_categorical = encoder.fit_transform(X[categorical_cols])\n",
        "\n",
        "# Combine numerical and encoded categorical data\n",
        "X = X.drop(columns=categorical_cols)\n",
        "X = np.hstack([X.values, encoded_categorical])\n",
        "\n",
        "# Encode target variable\n",
        "if y.dtype == 'object' or len(y.unique()) > 2:\n",
        "    y = (y == y.unique()[1]).astype(int)\n",
        "\n",
        "# Train-test split\n",
        "X_train, X_test, y_train, y_test = train_test_split(X, y, test_size=0.2, random_state=42)\n",
        "\n",
        "# Initialize and train the neural network\n",
        "input_size = X_train.shape[1]\n",
        "hidden_size = 100\n",
        "output_size = 1\n",
        "learning_rate = 0.001\n",
        "\n",
        "nn = NeuralNetwork(input_size, hidden_size, output_size, learning_rate)\n",
        "epochs = 500\n",
        "loss_history = []\n",
        "acc_history = []\n",
        "test_acc_history = []\n",
        "for epoch in range(epochs):\n",
        "    nn.forward(X_train)\n",
        "    nn.backward(X_train, y_train)\n",
        "    loss = nn.compute_loss(y_train)\n",
        "    loss_history.append(loss)  # Store loss at every epoch\n",
        "    predicted_output_train = nn.forward(X_train)\n",
        "    predicted_train_binary = (predicted_output_train > 0.5).astype(int)\n",
        "    train_accuracy = np.mean(predicted_train_binary.flatten() == y_train)\n",
        "    acc_history.append(train_accuracy)\n",
        "    predicted_output_test = nn.forward(X_test)\n",
        "    predicted_test_binary = (predicted_output_test > 0.5).astype(int)\n",
        "    test_accuracy = np.mean(predicted_test_binary.flatten() == y_test)\n",
        "\n",
        "    # Store test accuracy\n",
        "    test_acc_history.append(test_accuracy)\n",
        "\n",
        "\n",
        "    if epoch % 50 == 0:\n",
        "        print(f\"Epoch {epoch}, Loss: {loss:.4f}, Training Accuracy: {train_accuracy:.2f}\")\n",
        "\n",
        "\n",
        "# Calculate training accuracy\n",
        "predicted_output_train = nn.forward(X_train)\n",
        "predicted_train_binary = (predicted_output_train > 0.5).astype(int)\n",
        "train_accuracy = np.mean(predicted_train_binary.flatten() == y_train)\n",
        "print(f\"Train Accuracy: {train_accuracy:.2f}\")\n",
        "\n",
        "# Calculating on test data\n",
        "predicted_output_test = nn.forward(X_test)\n",
        "predicted_binary = (predicted_output_test > 0.5).astype(int)\n",
        "accuracy = np.mean(predicted_binary.flatten() == y_test)\n",
        "print(f\"Test Accuracy: {accuracy:.2f}\")\n",
        "\n",
        "\n"
      ]
    },
    {
      "cell_type": "code",
      "execution_count": 14,
      "metadata": {},
      "outputs": [
        {
          "data": {
            "image/png": "[encoded data removed]",
            "text/plain": [
              "<Figure size 1000x600 with 1 Axes>"
            ]
          },
          "metadata": {},
          "output_type": "display_data"
        }
      ],
      "source": [
        "plt.figure(figsize=(10, 6))\n",
        "plt.plot(range(epochs), loss_history, label=\"Loss\", color=\"red\")\n",
        "plt.xlabel(\"Epochs\")\n",
        "plt.ylabel(\"Loss\")\n",
        "plt.title(\"Training Loss Over Epochs\")\n",
        "plt.grid(True)\n",
        "plt.show()"
      ]
    }
  ],
  "metadata": {
    "colab": {
      "provenance": []
    },
    "kernelspec": {
      "display_name": "Python 3",
      "name": "python3"
    },
    "language_info": {
      "codemirror_mode": {
        "name": "ipython",
        "version": 3
      },
      "file_extension": ".py",
      "mimetype": "text/x-python",
      "name": "python",
      "nbconvert_exporter": "python",
      "pygments_lexer": "ipython3",
      "version": "3.9.6"
    }
  },
  "nbformat": 4,
  "nbformat_minor": 0
}
